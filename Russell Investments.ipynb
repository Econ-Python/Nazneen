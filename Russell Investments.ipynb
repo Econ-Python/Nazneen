{
 "cells": [
  {
   "cell_type": "markdown",
   "id": "524dc6cc",
   "metadata": {},
   "source": [
    "# Question 1"
   ]
  },
  {
   "cell_type": "markdown",
   "id": "1c62efac",
   "metadata": {},
   "source": [
    "A) Calculate the expected return and correlation matrix of the stock, bond and HY bond returns. <br>\n",
    "B) Given this set of scenarios, what are the portfolio weights that achieve the lowest volatility while keeping the expected portfolio return above 6%. <br>\n",
    "C) What’s the 95% VaR and CVaR of the portfolio calculated above? What’s the probability that the drawdown of the portfolio is bigger than 10% over the next 1-year period?\n"
   ]
  },
  {
   "cell_type": "code",
   "execution_count": 89,
   "id": "6baf79ae",
   "metadata": {},
   "outputs": [],
   "source": [
    "import pandas as pd\n",
    "import os\n",
    "import numpy as np\n",
    "os.chdir(r'C:\\Users\\nazne\\Downloads\\RussuleInvesment')\n",
    "os.getcwd()\n",
    "import warnings\n",
    "warnings.simplefilter(action='ignore', category=FutureWarning)\n",
    "warnings.filterwarnings(\"ignore\")"
   ]
  },
  {
   "cell_type": "code",
   "execution_count": 90,
   "id": "bf982a0e",
   "metadata": {},
   "outputs": [
    {
     "data": {
      "text/html": [
       "<div>\n",
       "<style scoped>\n",
       "    .dataframe tbody tr th:only-of-type {\n",
       "        vertical-align: middle;\n",
       "    }\n",
       "\n",
       "    .dataframe tbody tr th {\n",
       "        vertical-align: top;\n",
       "    }\n",
       "\n",
       "    .dataframe thead th {\n",
       "        text-align: right;\n",
       "    }\n",
       "</style>\n",
       "<table border=\"1\" class=\"dataframe\">\n",
       "  <thead>\n",
       "    <tr style=\"text-align: right;\">\n",
       "      <th></th>\n",
       "      <th>Global Equity UH</th>\n",
       "      <th>U.S. Core Fixed Income</th>\n",
       "      <th>Global High Yield H</th>\n",
       "    </tr>\n",
       "  </thead>\n",
       "  <tbody>\n",
       "    <tr>\n",
       "      <th>0</th>\n",
       "      <td>-0.108474</td>\n",
       "      <td>0.038446</td>\n",
       "      <td>0.093814</td>\n",
       "    </tr>\n",
       "    <tr>\n",
       "      <th>1</th>\n",
       "      <td>-0.027712</td>\n",
       "      <td>-0.014179</td>\n",
       "      <td>0.032102</td>\n",
       "    </tr>\n",
       "    <tr>\n",
       "      <th>2</th>\n",
       "      <td>0.370239</td>\n",
       "      <td>0.024327</td>\n",
       "      <td>0.077355</td>\n",
       "    </tr>\n",
       "    <tr>\n",
       "      <th>3</th>\n",
       "      <td>-0.035772</td>\n",
       "      <td>0.002683</td>\n",
       "      <td>0.044717</td>\n",
       "    </tr>\n",
       "    <tr>\n",
       "      <th>4</th>\n",
       "      <td>0.211969</td>\n",
       "      <td>0.023330</td>\n",
       "      <td>0.089939</td>\n",
       "    </tr>\n",
       "  </tbody>\n",
       "</table>\n",
       "</div>"
      ],
      "text/plain": [
       "   Global Equity UH  U.S. Core Fixed Income  Global High Yield H\n",
       "0         -0.108474                0.038446             0.093814\n",
       "1         -0.027712               -0.014179             0.032102\n",
       "2          0.370239                0.024327             0.077355\n",
       "3         -0.035772                0.002683             0.044717\n",
       "4          0.211969                0.023330             0.089939"
      ]
     },
     "execution_count": 90,
     "metadata": {},
     "output_type": "execute_result"
    }
   ],
   "source": [
    "df_original = pd.read_csv('5Y_Scenario_File.txt', delimiter = \",\")\n",
    "df_original.head()"
   ]
  },
  {
   "cell_type": "code",
   "execution_count": 91,
   "id": "c415a43b",
   "metadata": {},
   "outputs": [
    {
     "data": {
      "text/html": [
       "<div>\n",
       "<style scoped>\n",
       "    .dataframe tbody tr th:only-of-type {\n",
       "        vertical-align: middle;\n",
       "    }\n",
       "\n",
       "    .dataframe tbody tr th {\n",
       "        vertical-align: top;\n",
       "    }\n",
       "\n",
       "    .dataframe thead th {\n",
       "        text-align: right;\n",
       "    }\n",
       "</style>\n",
       "<table border=\"1\" class=\"dataframe\">\n",
       "  <thead>\n",
       "    <tr style=\"text-align: right;\">\n",
       "      <th></th>\n",
       "      <th>Global Equity UH</th>\n",
       "      <th>U.S. Core Fixed Income</th>\n",
       "      <th>Global High Yield H</th>\n",
       "    </tr>\n",
       "  </thead>\n",
       "  <tbody>\n",
       "    <tr>\n",
       "      <th>24995</th>\n",
       "      <td>-0.095024</td>\n",
       "      <td>-0.006504</td>\n",
       "      <td>-0.000925</td>\n",
       "    </tr>\n",
       "    <tr>\n",
       "      <th>24996</th>\n",
       "      <td>0.144532</td>\n",
       "      <td>0.056720</td>\n",
       "      <td>0.064148</td>\n",
       "    </tr>\n",
       "    <tr>\n",
       "      <th>24997</th>\n",
       "      <td>0.058800</td>\n",
       "      <td>-0.005640</td>\n",
       "      <td>0.016703</td>\n",
       "    </tr>\n",
       "    <tr>\n",
       "      <th>24998</th>\n",
       "      <td>0.189712</td>\n",
       "      <td>0.032590</td>\n",
       "      <td>0.075196</td>\n",
       "    </tr>\n",
       "    <tr>\n",
       "      <th>24999</th>\n",
       "      <td>0.165362</td>\n",
       "      <td>-0.009849</td>\n",
       "      <td>-0.040397</td>\n",
       "    </tr>\n",
       "  </tbody>\n",
       "</table>\n",
       "</div>"
      ],
      "text/plain": [
       "       Global Equity UH  U.S. Core Fixed Income  Global High Yield H\n",
       "24995         -0.095024               -0.006504            -0.000925\n",
       "24996          0.144532                0.056720             0.064148\n",
       "24997          0.058800               -0.005640             0.016703\n",
       "24998          0.189712                0.032590             0.075196\n",
       "24999          0.165362               -0.009849            -0.040397"
      ]
     },
     "execution_count": 91,
     "metadata": {},
     "output_type": "execute_result"
    }
   ],
   "source": [
    "df_original.tail()"
   ]
  },
  {
   "cell_type": "code",
   "execution_count": 92,
   "id": "854842b8",
   "metadata": {},
   "outputs": [],
   "source": [
    "### period data\n",
    "period_data = {}\n",
    "period = 1\n",
    "for i in range(0,df_original.shape[0],5000):\n",
    "    period_data[\"time_period_\" + str(period)] = df_original.iloc[i:i+5000, :]\n",
    "   # print(i)\n",
    "    period = period+1"
   ]
  },
  {
   "cell_type": "code",
   "execution_count": 93,
   "id": "4ddcbcf2",
   "metadata": {},
   "outputs": [
    {
     "data": {
      "text/plain": [
       "dict_keys(['time_period_1', 'time_period_2', 'time_period_3', 'time_period_4', 'time_period_5'])"
      ]
     },
     "execution_count": 93,
     "metadata": {},
     "output_type": "execute_result"
    }
   ],
   "source": [
    "period_data.keys()"
   ]
  },
  {
   "cell_type": "code",
   "execution_count": 94,
   "id": "eec84800",
   "metadata": {},
   "outputs": [
    {
     "name": "stdout",
     "output_type": "stream",
     "text": [
      "   Global Equity UH  U.S. Core Fixed Income  Global High Yield H  Scenarios\n",
      "0         -0.108474                0.038446             0.093814  Scenario1\n",
      "1         -0.027712               -0.014179             0.032102  Scenario2\n",
      "   Global Equity UH  U.S. Core Fixed Income  Global High Yield H  Scenarios\n",
      "0          0.022493               -0.004840             0.030325  Scenario1\n",
      "1         -0.066488                0.031613             0.046563  Scenario2\n",
      "   Global Equity UH  U.S. Core Fixed Income  Global High Yield H  Scenarios\n",
      "0          0.079193                0.113924             0.101947  Scenario1\n",
      "1         -0.261660               -0.129987            -0.065073  Scenario2\n",
      "   Global Equity UH  U.S. Core Fixed Income  Global High Yield H  Scenarios\n",
      "0          0.033158               -0.023436             0.019359  Scenario1\n",
      "1          0.122668                0.097173             0.051287  Scenario2\n",
      "   Global Equity UH  U.S. Core Fixed Income  Global High Yield H  Scenarios\n",
      "0         -0.016203               -0.053054            -0.231276  Scenario1\n",
      "1          0.359406                0.144700             0.292823  Scenario2\n"
     ]
    }
   ],
   "source": [
    "for key,val in period_data.items():\n",
    "    val.reset_index(drop =True, inplace= True)\n",
    "    val['Scenarios'] = \"Scenario\" + (val.index +1).astype(str)\n",
    "    print(val.head(2))"
   ]
  },
  {
   "cell_type": "markdown",
   "id": "0ccbf0ec",
   "metadata": {},
   "source": [
    "## Expected Returns\n",
    "For each time period there 5000 scenario, lets suppose each scenario is equally likely to occur,\n",
    "then probability of a scenario $1,....5000$ is $1/5000$, based on this, the expected return on each period will be defined as, \n",
    "$$ E(returns) = p(i)*\\sum \\limits _{j=1} ^{5000} return_i $$"
   ]
  },
  {
   "cell_type": "code",
   "execution_count": 95,
   "id": "99816052",
   "metadata": {},
   "outputs": [
    {
     "data": {
      "text/html": [
       "<div>\n",
       "<style scoped>\n",
       "    .dataframe tbody tr th:only-of-type {\n",
       "        vertical-align: middle;\n",
       "    }\n",
       "\n",
       "    .dataframe tbody tr th {\n",
       "        vertical-align: top;\n",
       "    }\n",
       "\n",
       "    .dataframe thead th {\n",
       "        text-align: right;\n",
       "    }\n",
       "</style>\n",
       "<table border=\"1\" class=\"dataframe\">\n",
       "  <thead>\n",
       "    <tr style=\"text-align: right;\">\n",
       "      <th></th>\n",
       "      <th>time_period_1 (in %)</th>\n",
       "      <th>time_period_2 (in %)</th>\n",
       "      <th>time_period_3 (in %)</th>\n",
       "      <th>time_period_4 (in %)</th>\n",
       "      <th>time_period_5 (in %)</th>\n",
       "      <th>Return in 5 periods (in %)</th>\n",
       "    </tr>\n",
       "  </thead>\n",
       "  <tbody>\n",
       "    <tr>\n",
       "      <th>Global Equity UH</th>\n",
       "      <td>7.70</td>\n",
       "      <td>8.12</td>\n",
       "      <td>7.77</td>\n",
       "      <td>7.94</td>\n",
       "      <td>8.06</td>\n",
       "      <td>39.60</td>\n",
       "    </tr>\n",
       "    <tr>\n",
       "      <th>U.S. Core Fixed Income</th>\n",
       "      <td>0.52</td>\n",
       "      <td>0.99</td>\n",
       "      <td>1.58</td>\n",
       "      <td>2.12</td>\n",
       "      <td>2.62</td>\n",
       "      <td>7.83</td>\n",
       "    </tr>\n",
       "    <tr>\n",
       "      <th>Global High Yield H</th>\n",
       "      <td>3.10</td>\n",
       "      <td>3.53</td>\n",
       "      <td>4.13</td>\n",
       "      <td>4.77</td>\n",
       "      <td>5.14</td>\n",
       "      <td>20.68</td>\n",
       "    </tr>\n",
       "  </tbody>\n",
       "</table>\n",
       "</div>"
      ],
      "text/plain": [
       "                        time_period_1 (in %)  time_period_2 (in %)  \\\n",
       "Global Equity UH                        7.70                  8.12   \n",
       "U.S. Core Fixed Income                  0.52                  0.99   \n",
       "Global High Yield H                     3.10                  3.53   \n",
       "\n",
       "                        time_period_3 (in %)  time_period_4 (in %)  \\\n",
       "Global Equity UH                        7.77                  7.94   \n",
       "U.S. Core Fixed Income                  1.58                  2.12   \n",
       "Global High Yield H                     4.13                  4.77   \n",
       "\n",
       "                        time_period_5 (in %)  Return in 5 periods (in %)  \n",
       "Global Equity UH                        8.06                       39.60  \n",
       "U.S. Core Fixed Income                  2.62                        7.83  \n",
       "Global High Yield H                     5.14                       20.68  "
      ]
     },
     "execution_count": 95,
     "metadata": {},
     "output_type": "execute_result"
    }
   ],
   "source": [
    "df_return1 = pd.DataFrame()\n",
    "for key,val in period_data.items():\n",
    "    expected_returns = val.iloc[:,:3].sum()*100/val.shape[0]\n",
    "    temp = pd.DataFrame(expected_returns, columns = [key + \" (in %)\"])\n",
    "    df_return1 = pd.concat([df_return1,temp], axis=1)\n",
    "df_return1['Return in 5 periods (in %)'] = df_return1.sum(axis=1)\n",
    "df_return1.round(2)"
   ]
  },
  {
   "cell_type": "markdown",
   "id": "6f48e370",
   "metadata": {},
   "source": [
    "Actually, if we change our thought process of scenarios and think that a scenario will occur in all the 5 time periods. then our definition of return over 5 time periods will change as it will be scenario driven. But the expected retuns value will still be same. "
   ]
  },
  {
   "cell_type": "code",
   "execution_count": 96,
   "id": "94bc06f4",
   "metadata": {},
   "outputs": [],
   "source": [
    "df_return2 = pd.DataFrame(columns= val.columns[:3])\n",
    "for key, val in period_data.items():\n",
    "    val.set_index('Scenarios', inplace=True)\n",
    "    df_return2 = df_return2.add(val.iloc[:,:3], fill_value =0)"
   ]
  },
  {
   "cell_type": "code",
   "execution_count": 97,
   "id": "5de01d93",
   "metadata": {},
   "outputs": [
    {
     "data": {
      "text/html": [
       "<div>\n",
       "<style scoped>\n",
       "    .dataframe tbody tr th:only-of-type {\n",
       "        vertical-align: middle;\n",
       "    }\n",
       "\n",
       "    .dataframe tbody tr th {\n",
       "        vertical-align: top;\n",
       "    }\n",
       "\n",
       "    .dataframe thead th {\n",
       "        text-align: right;\n",
       "    }\n",
       "</style>\n",
       "<table border=\"1\" class=\"dataframe\">\n",
       "  <thead>\n",
       "    <tr style=\"text-align: right;\">\n",
       "      <th></th>\n",
       "      <th>Global Equity UH</th>\n",
       "      <th>U.S. Core Fixed Income</th>\n",
       "      <th>Global High Yield H</th>\n",
       "    </tr>\n",
       "    <tr>\n",
       "      <th>Scenarios</th>\n",
       "      <th></th>\n",
       "      <th></th>\n",
       "      <th></th>\n",
       "    </tr>\n",
       "  </thead>\n",
       "  <tbody>\n",
       "    <tr>\n",
       "      <th>Scenario1</th>\n",
       "      <td>1.0167</td>\n",
       "      <td>7.104</td>\n",
       "      <td>1.4169</td>\n",
       "    </tr>\n",
       "    <tr>\n",
       "      <th>Scenario2</th>\n",
       "      <td>12.6214</td>\n",
       "      <td>12.932</td>\n",
       "      <td>35.7702</td>\n",
       "    </tr>\n",
       "    <tr>\n",
       "      <th>Scenario3</th>\n",
       "      <td>60.9426</td>\n",
       "      <td>4.3451</td>\n",
       "      <td>18.633</td>\n",
       "    </tr>\n",
       "    <tr>\n",
       "      <th>Scenario4</th>\n",
       "      <td>64.336</td>\n",
       "      <td>12.9498</td>\n",
       "      <td>26.8494</td>\n",
       "    </tr>\n",
       "    <tr>\n",
       "      <th>Scenario5</th>\n",
       "      <td>70.5305</td>\n",
       "      <td>7.0467</td>\n",
       "      <td>29.1009</td>\n",
       "    </tr>\n",
       "    <tr>\n",
       "      <th>...</th>\n",
       "      <td>...</td>\n",
       "      <td>...</td>\n",
       "      <td>...</td>\n",
       "    </tr>\n",
       "    <tr>\n",
       "      <th>Scenario4996</th>\n",
       "      <td>-24.086</td>\n",
       "      <td>6.1995</td>\n",
       "      <td>16.0962</td>\n",
       "    </tr>\n",
       "    <tr>\n",
       "      <th>Scenario4997</th>\n",
       "      <td>53.4062</td>\n",
       "      <td>14.2142</td>\n",
       "      <td>29.715</td>\n",
       "    </tr>\n",
       "    <tr>\n",
       "      <th>Scenario4998</th>\n",
       "      <td>4.8958</td>\n",
       "      <td>4.5026</td>\n",
       "      <td>20.8822</td>\n",
       "    </tr>\n",
       "    <tr>\n",
       "      <th>Scenario4999</th>\n",
       "      <td>42.2977</td>\n",
       "      <td>8.0508</td>\n",
       "      <td>25.5234</td>\n",
       "    </tr>\n",
       "    <tr>\n",
       "      <th>Scenario5000</th>\n",
       "      <td>35.1073</td>\n",
       "      <td>7.6255</td>\n",
       "      <td>8.2803</td>\n",
       "    </tr>\n",
       "  </tbody>\n",
       "</table>\n",
       "<p>5000 rows × 3 columns</p>\n",
       "</div>"
      ],
      "text/plain": [
       "             Global Equity UH U.S. Core Fixed Income Global High Yield H\n",
       "Scenarios                                                               \n",
       "Scenario1              1.0167                  7.104              1.4169\n",
       "Scenario2             12.6214                 12.932             35.7702\n",
       "Scenario3             60.9426                 4.3451              18.633\n",
       "Scenario4              64.336                12.9498             26.8494\n",
       "Scenario5             70.5305                 7.0467             29.1009\n",
       "...                       ...                    ...                 ...\n",
       "Scenario4996          -24.086                 6.1995             16.0962\n",
       "Scenario4997          53.4062                14.2142              29.715\n",
       "Scenario4998           4.8958                 4.5026             20.8822\n",
       "Scenario4999          42.2977                 8.0508             25.5234\n",
       "Scenario5000          35.1073                 7.6255              8.2803\n",
       "\n",
       "[5000 rows x 3 columns]"
      ]
     },
     "metadata": {},
     "output_type": "display_data"
    }
   ],
   "source": [
    "df_return2 = df_return2*100\n",
    "display(df_return2)"
   ]
  },
  {
   "cell_type": "code",
   "execution_count": 98,
   "id": "39c8cc6e",
   "metadata": {},
   "outputs": [
    {
     "name": "stdout",
     "output_type": "stream",
     "text": [
      "expected Returns for the three assest class in 5 time periods\n"
     ]
    },
    {
     "data": {
      "text/html": [
       "<div>\n",
       "<style scoped>\n",
       "    .dataframe tbody tr th:only-of-type {\n",
       "        vertical-align: middle;\n",
       "    }\n",
       "\n",
       "    .dataframe tbody tr th {\n",
       "        vertical-align: top;\n",
       "    }\n",
       "\n",
       "    .dataframe thead th {\n",
       "        text-align: right;\n",
       "    }\n",
       "</style>\n",
       "<table border=\"1\" class=\"dataframe\">\n",
       "  <thead>\n",
       "    <tr style=\"text-align: right;\">\n",
       "      <th></th>\n",
       "      <th>Expected return (in %)</th>\n",
       "    </tr>\n",
       "  </thead>\n",
       "  <tbody>\n",
       "    <tr>\n",
       "      <th>Global Equity UH</th>\n",
       "      <td>39.598036</td>\n",
       "    </tr>\n",
       "    <tr>\n",
       "      <th>U.S. Core Fixed Income</th>\n",
       "      <td>7.828301</td>\n",
       "    </tr>\n",
       "    <tr>\n",
       "      <th>Global High Yield H</th>\n",
       "      <td>20.680225</td>\n",
       "    </tr>\n",
       "  </tbody>\n",
       "</table>\n",
       "</div>"
      ],
      "text/plain": [
       "                       Expected return (in %)\n",
       "Global Equity UH                    39.598036\n",
       "U.S. Core Fixed Income               7.828301\n",
       "Global High Yield H                 20.680225"
      ]
     },
     "execution_count": 98,
     "metadata": {},
     "output_type": "execute_result"
    }
   ],
   "source": [
    "print(\"expected Returns for the three assest class in 5 time periods\")\n",
    "pd.DataFrame(df_return2.sum()/df_return2.shape[0], columns = ['Expected return (in %)'])"
   ]
  },
  {
   "cell_type": "markdown",
   "id": "2cc017c2",
   "metadata": {},
   "source": [
    "## Correlation Matrix\n",
    "Pearson's correlation is used to measure the linear relationship between the variables. We can look at the cross sectional correlation between the asset classes in each time period and also over the whole time period of length five how the behaved wrt each other. Below we look at the correlation between the full data considering each scenario as different data point."
   ]
  },
  {
   "cell_type": "code",
   "execution_count": 103,
   "id": "52929625",
   "metadata": {},
   "outputs": [
    {
     "data": {
      "text/html": [
       "<div>\n",
       "<style scoped>\n",
       "    .dataframe tbody tr th:only-of-type {\n",
       "        vertical-align: middle;\n",
       "    }\n",
       "\n",
       "    .dataframe tbody tr th {\n",
       "        vertical-align: top;\n",
       "    }\n",
       "\n",
       "    .dataframe thead th {\n",
       "        text-align: right;\n",
       "    }\n",
       "</style>\n",
       "<table border=\"1\" class=\"dataframe\">\n",
       "  <thead>\n",
       "    <tr style=\"text-align: right;\">\n",
       "      <th></th>\n",
       "      <th>Global Equity UH</th>\n",
       "      <th>U.S. Core Fixed Income</th>\n",
       "      <th>Global High Yield H</th>\n",
       "    </tr>\n",
       "  </thead>\n",
       "  <tbody>\n",
       "    <tr>\n",
       "      <th>Global Equity UH</th>\n",
       "      <td>1.00</td>\n",
       "      <td>0.24</td>\n",
       "      <td>0.38</td>\n",
       "    </tr>\n",
       "    <tr>\n",
       "      <th>U.S. Core Fixed Income</th>\n",
       "      <td>0.24</td>\n",
       "      <td>1.00</td>\n",
       "      <td>0.66</td>\n",
       "    </tr>\n",
       "    <tr>\n",
       "      <th>Global High Yield H</th>\n",
       "      <td>0.38</td>\n",
       "      <td>0.66</td>\n",
       "      <td>1.00</td>\n",
       "    </tr>\n",
       "  </tbody>\n",
       "</table>\n",
       "</div>"
      ],
      "text/plain": [
       "                        Global Equity UH  U.S. Core Fixed Income  \\\n",
       "Global Equity UH                    1.00                    0.24   \n",
       "U.S. Core Fixed Income              0.24                    1.00   \n",
       "Global High Yield H                 0.38                    0.66   \n",
       "\n",
       "                        Global High Yield H  \n",
       "Global Equity UH                       0.38  \n",
       "U.S. Core Fixed Income                 0.66  \n",
       "Global High Yield H                    1.00  "
      ]
     },
     "metadata": {},
     "output_type": "display_data"
    },
    {
     "data": {
      "image/png": "[encoded data removed]",
      "text/plain": [
       "<Figure size 432x288 with 2 Axes>"
      ]
     },
     "metadata": {
      "needs_background": "light"
     },
     "output_type": "display_data"
    }
   ],
   "source": [
    "# import modules \n",
    "import matplotlib.pyplot as mp \n",
    "import pandas as pd \n",
    "import seaborn as sb \n",
    "\n",
    "display(df_original.corr().round(2)) \n",
    "  \n",
    "# plotting correlation heatmap \n",
    "dataplot = sb.heatmap(df_original.corr(), cmap=\"YlGnBu\", annot=True) \n",
    "  \n",
    "# displaying heatmap \n",
    "mp.show()"
   ]
  },
  {
   "cell_type": "code",
   "execution_count": 108,
   "id": "59ae3c24",
   "metadata": {},
   "outputs": [
    {
     "data": {
      "text/html": [
       "<div>\n",
       "<style scoped>\n",
       "    .dataframe tbody tr th:only-of-type {\n",
       "        vertical-align: middle;\n",
       "    }\n",
       "\n",
       "    .dataframe tbody tr th {\n",
       "        vertical-align: top;\n",
       "    }\n",
       "\n",
       "    .dataframe thead th {\n",
       "        text-align: right;\n",
       "    }\n",
       "</style>\n",
       "<table border=\"1\" class=\"dataframe\">\n",
       "  <thead>\n",
       "    <tr style=\"text-align: right;\">\n",
       "      <th></th>\n",
       "      <th>Global Equity UH</th>\n",
       "      <th>U.S. Core Fixed Income</th>\n",
       "      <th>Global High Yield H</th>\n",
       "      <th>Expected return (in %)</th>\n",
       "    </tr>\n",
       "  </thead>\n",
       "  <tbody>\n",
       "    <tr>\n",
       "      <th>Global Equity UH</th>\n",
       "      <td>7.56</td>\n",
       "      <td>0.0</td>\n",
       "      <td>2.52</td>\n",
       "      <td>39.598036</td>\n",
       "    </tr>\n",
       "    <tr>\n",
       "      <th>U.S. Core Fixed Income</th>\n",
       "      <td>0.00</td>\n",
       "      <td>0.0</td>\n",
       "      <td>0.00</td>\n",
       "      <td>7.828301</td>\n",
       "    </tr>\n",
       "    <tr>\n",
       "      <th>Global High Yield H</th>\n",
       "      <td>2.52</td>\n",
       "      <td>0.0</td>\n",
       "      <td>2.52</td>\n",
       "      <td>20.680225</td>\n",
       "    </tr>\n",
       "  </tbody>\n",
       "</table>\n",
       "</div>"
      ],
      "text/plain": [
       "                        Global Equity UH  U.S. Core Fixed Income  \\\n",
       "Global Equity UH                    7.56                     0.0   \n",
       "U.S. Core Fixed Income              0.00                     0.0   \n",
       "Global High Yield H                 2.52                     0.0   \n",
       "\n",
       "                        Global High Yield H Expected return (in %)  \n",
       "Global Equity UH                       2.52              39.598036  \n",
       "U.S. Core Fixed Income                 0.00               7.828301  \n",
       "Global High Yield H                    2.52              20.680225  "
      ]
     },
     "execution_count": 108,
     "metadata": {},
     "output_type": "execute_result"
    }
   ],
   "source": [
    "df_cov = df_original.cov().round(2)*252 ## annulised portfolio volatility\n",
    "df_cov[\"Expected return (in %)\"] = df_return2.sum()/df_return2.shape[0]\n",
    "df_cov"
   ]
  },
  {
   "cell_type": "markdown",
   "id": "656a7036",
   "metadata": {},
   "source": [
    "Although there is an a way to get minimum variance portfolio using efficient frontier which is discussed in the two links (https://www.simtrade.fr/blog_simtrade/minimum-volatility-portfolio/)\n",
    "(https://www.codecademy.com/resources/docs/markdown/links) <br>\n",
    "But from the naked eye,you can easily see that US core Fixed Income have zero volatitily and no correlation with the other two classes. Also it has expected return greater than 6%. so, we can simply keep only this fixed income asset in our portfolio."
   ]
  },
  {
   "cell_type": "code",
   "execution_count": 113,
   "id": "9d845f3a",
   "metadata": {},
   "outputs": [
    {
     "name": "stdout",
     "output_type": "stream",
     "text": [
      "The VaR is 1.370675051832165\n"
     ]
    }
   ],
   "source": [
    "import numpy as np\n",
    "import scipy.stats as stats\n",
    "\n",
    "# Calculate the mean and standard deviation of the returns\n",
    "mean = df_original[\"U.S. Core Fixed Income\"].mean()\n",
    "std = df_original[\"U.S. Core Fixed Income\"].std()*np.sqrt(252)\n",
    "\n",
    "# Set the confidence level\n",
    "confidence_level = 0.95\n",
    "\n",
    "# Calculate the VaR\n",
    "VaR = stats.norm.ppf(confidence_level, mean, std)\n",
    "\n",
    "# Print the VaR\n",
    "print(\"The VaR is\", VaR)\n",
    "\n",
    "## formula to calculate VaR = mean - z/std "
   ]
  },
  {
   "cell_type": "code",
   "execution_count": 117,
   "id": "5ee0637b",
   "metadata": {},
   "outputs": [
    {
     "name": "stdout",
     "output_type": "stream",
     "text": [
      "1250\n",
      "CVaR at 95.0% confidence level: -0.007860908472344186\n"
     ]
    }
   ],
   "source": [
    "sorted_data = df_original.sort_values(by = [\"U.S. Core Fixed Income\"])\n",
    "num_samples = df_original.shape[0]\n",
    "cvar_index = int((1 - confidence_level) * num_samples)\n",
    "print(cvar_index)\n",
    "cvar = np.mean(sorted_data.loc[:cvar_index, \"U.S. Core Fixed Income\"])\n",
    "# Print CVaR result\n",
    "print(f\"CVaR at {confidence_level*100}% confidence level: {cvar}\")"
   ]
  },
  {
   "cell_type": "code",
   "execution_count": 120,
   "id": "cb356915",
   "metadata": {},
   "outputs": [
    {
     "data": {
      "text/html": [
       "<div>\n",
       "<style scoped>\n",
       "    .dataframe tbody tr th:only-of-type {\n",
       "        vertical-align: middle;\n",
       "    }\n",
       "\n",
       "    .dataframe tbody tr th {\n",
       "        vertical-align: top;\n",
       "    }\n",
       "\n",
       "    .dataframe thead th {\n",
       "        text-align: right;\n",
       "    }\n",
       "</style>\n",
       "<table border=\"1\" class=\"dataframe\">\n",
       "  <thead>\n",
       "    <tr style=\"text-align: right;\">\n",
       "      <th></th>\n",
       "      <th>Global Equity UH</th>\n",
       "      <th>U.S. Core Fixed Income</th>\n",
       "      <th>Global High Yield H</th>\n",
       "    </tr>\n",
       "  </thead>\n",
       "  <tbody>\n",
       "    <tr>\n",
       "      <th>11673</th>\n",
       "      <td>-0.534603</td>\n",
       "      <td>-0.196799</td>\n",
       "      <td>-0.352539</td>\n",
       "    </tr>\n",
       "    <tr>\n",
       "      <th>10739</th>\n",
       "      <td>-0.149813</td>\n",
       "      <td>-0.188383</td>\n",
       "      <td>-0.296164</td>\n",
       "    </tr>\n",
       "    <tr>\n",
       "      <th>9749</th>\n",
       "      <td>0.088598</td>\n",
       "      <td>-0.187731</td>\n",
       "      <td>-0.095723</td>\n",
       "    </tr>\n",
       "    <tr>\n",
       "      <th>18908</th>\n",
       "      <td>-0.371155</td>\n",
       "      <td>-0.186467</td>\n",
       "      <td>-0.163062</td>\n",
       "    </tr>\n",
       "    <tr>\n",
       "      <th>4620</th>\n",
       "      <td>-0.431845</td>\n",
       "      <td>-0.185935</td>\n",
       "      <td>-0.372888</td>\n",
       "    </tr>\n",
       "  </tbody>\n",
       "</table>\n",
       "</div>"
      ],
      "text/plain": [
       "       Global Equity UH  U.S. Core Fixed Income  Global High Yield H\n",
       "11673         -0.534603               -0.196799            -0.352539\n",
       "10739         -0.149813               -0.188383            -0.296164\n",
       "9749           0.088598               -0.187731            -0.095723\n",
       "18908         -0.371155               -0.186467            -0.163062\n",
       "4620          -0.431845               -0.185935            -0.372888"
      ]
     },
     "execution_count": 120,
     "metadata": {},
     "output_type": "execute_result"
    }
   ],
   "source": [
    "## probability of drawdowns\n",
    "dd_df = sorted_data[sorted_data[\"U.S. Core Fixed Income\"] < -.01]\n",
    "dd_df.head()"
   ]
  },
  {
   "cell_type": "code",
   "execution_count": 122,
   "id": "f36ca918",
   "metadata": {},
   "outputs": [
    {
     "name": "stdout",
     "output_type": "stream",
     "text": [
      "probability of drawdown greater than 10% in next 1 year based on historic data : 0.3074\n"
     ]
    }
   ],
   "source": [
    "prob = dd_df.shape[0]/sorted_data.shape[0]\n",
    "print(\"probability of drawdown greater than 10% in next 1 year based on historic data :\", prob)"
   ]
  },
  {
   "cell_type": "markdown",
   "id": "c67e4bc9",
   "metadata": {},
   "source": [
    "Seems like there is no risk in investing the U.S. Core Fixed Income so all the values CVaR (shortfall) and probability of drawdown bigger than 10% is zero."
   ]
  },
  {
   "cell_type": "markdown",
   "id": "e72885f6",
   "metadata": {},
   "source": [
    "# Question 2\n",
    "You have been tasked to oversee improvements in the design of a multi-asset strategy. You have a set of capital market assumptions for different asset classes to which the portfolio already allocates. However, the portfolio manager of the strategy thinks there should be broader exposures in the portfolio where you don’t have capital market assumptions. In particular, she thinks there should be allocations to **gold, collateralized loan obligations (CLOs), convertible bonds and volatility strategies**. Describe your plan (not more than 1 page) to evaluate if these types of strategies/ assets should be used in the strategic allocation and how you would determine the weight to the assets. Assume that your work sets the strategic asset allocation for a multi-asset strategy fund that serves many institutional clients, targeting a return of cash plus 4%. \n",
    "\n",
    "Note- We do not want you to look at actual data to make a determination. We want you to write-up your approach for how you would go about solving the problem.\n"
   ]
  },
  {
   "cell_type": "markdown",
   "id": "5e2fd953",
   "metadata": {},
   "source": [
    "# Solution"
   ]
  },
  {
   "cell_type": "markdown",
   "id": "2f7e28b6",
   "metadata": {},
   "source": [
    "**The formula for portfolio volatility is:**\n",
    "$$\\sigma_{portfolio} = \\sqrt{w^T.\\sum.w}$$\n",
    "\n",
    "$\\sigma_{portfolio}$ **:** Portfolio volatility <br>\n",
    "$\\sum$ **:** Covariance matrix of returns <br>\n",
    "$w^T$ **:** Portfolio weights (is transposed portfolio weights) <br>\n",
    "$\\cdot$ **:** The dot-multiplication operator <br>"
   ]
  },
  {
   "cell_type": "markdown",
   "id": "34512a7a",
   "metadata": {},
   "source": [
    "**The formula for expected returns of the portfolio**\n",
    "$$w*R_{matrix}$$"
   ]
  },
  {
   "cell_type": "markdown",
   "id": "93fff4b9",
   "metadata": {},
   "source": [
    "Capital markets include:\n",
    "1. Primary market: The market for new shares or securities\n",
    "2. Secondary market: The exchange of securities among investors\n",
    "3. Derivatives market: The market where financial instruments like options, futures, and swaps are bought and sold\n",
    "4. Commodities markets: Places where commodities are traded\n",
    "5. Stock market: A particular category of the capital market that only trades shares of corporations"
   ]
  },
  {
   "cell_type": "markdown",
   "id": "68d7ab77",
   "metadata": {},
   "source": [
    "* Gold and bonds is considered as good options for headging startegies due to their negative correlation wrt to stock market securities.\n",
    "* A collateralized loan obligation (CLO) is a single security backed by a pool of debt. Collateralized loan obligations (CLO) are often backed by corporate loans with low credit ratings or loans taken out by private equity firms to conduct leveraged buyouts. These have investment grade rating based on the quality or risk measures of the underlying loans.\n",
    "* A convertible bond is a hybrid security that offers both debt- and equity-like features. Convertible bonds are issued as corporate bonds, but have a slightly lower interest rate. They are a fixed-income security that can be converted into common stock shares or cashed in for cash of equal value.\n"
   ]
  },
  {
   "cell_type": "markdown",
   "id": "140ba44b",
   "metadata": {},
   "source": [
    "Based on the risk appetite of the client, we can play with the weights allocated to the assets to reach to the desired returns. According to my view having securities in the portfolio which have low or negative correlation helps in maintaining expected return level in adverse scenarios. While gold, convertible bond and volatility strategies are good way to hedge as in case stock market performs is down, gold and bonds will return better than stocks. If Stock market is doing well investor can convert their bond to equities to get better returns. CLOs are a bit tricky as they often driven by the economies as well new wave in the markets. Loans have high risk of insolvency and that's why I would like to little more research before suggesting them as additional security in the portfolio."
   ]
  },
  {
   "cell_type": "markdown",
   "id": "0e48881a",
   "metadata": {},
   "source": [
    "Using weight correlation value for assest class can one way of allocating weights to the portfolio to reach expected returns. \n",
    "$$ weight_{asset_i} = expected return * \\frac {correlation_{asset_i} }{ \\sum _{i} ^k correlation_{assest_i} }$$"
   ]
  },
  {
   "cell_type": "code",
   "execution_count": null,
   "id": "31586724",
   "metadata": {},
   "outputs": [],
   "source": []
  }
 ],
 "metadata": {
  "kernelspec": {
   "display_name": "Python 3 (ipykernel)",
   "language": "python",
   "name": "python3"
  },
  "language_info": {
   "codemirror_mode": {
    "name": "ipython",
    "version": 3
   },
   "file_extension": ".py",
   "mimetype": "text/x-python",
   "name": "python",
   "nbconvert_exporter": "python",
   "pygments_lexer": "ipython3",
   "version": "3.9.12"
  }
 },
 "nbformat": 4,
 "nbformat_minor": 5
}
