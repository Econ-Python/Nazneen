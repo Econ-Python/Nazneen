{
 "cells": [
  {
   "cell_type": "code",
   "execution_count": 1,
   "id": "389a3a29",
   "metadata": {},
   "outputs": [],
   "source": [
    "import gzip\n",
    "import json\n",
    "import pickle\n",
    "\n",
    "import matplotlib.pyplot as plt\n",
    "import pandas as pd\n",
    "import seaborn as sns\n",
    "from imblearn.over_sampling import RandomOverSampler\n",
    "from imblearn.under_sampling import RandomUnderSampler\n",
    "from IPython.display import VimeoVideo\n",
    "from sklearn.impute import SimpleImputer\n",
    "from sklearn.metrics import ConfusionMatrixDisplay\n",
    "from sklearn.model_selection import train_test_split\n",
    "from sklearn.pipeline import make_pipeline\n",
    "from sklearn.tree import DecisionTreeClassifier\n"
   ]
  },
  {
   "cell_type": "code",
   "execution_count": 2,
   "id": "9fcb8e5e",
   "metadata": {},
   "outputs": [],
   "source": [
    "#pip install imbalanced-learn"
   ]
  },
  {
   "cell_type": "code",
   "execution_count": null,
   "id": "03452dba",
   "metadata": {},
   "outputs": [],
   "source": [
    "# applying formatting to output of python not being scientific no.\n",
    "df[\"column_name\"].describe().apply(\"{0:,.0f}\".format)"
   ]
  },
  {
   "cell_type": "markdown",
   "id": "92d42dab",
   "metadata": {},
   "source": [
    "## Two Methods:\n",
    "1. Undersample\n",
    "2. Oversample"
   ]
  },
  {
   "cell_type": "code",
   "execution_count": null,
   "id": "244a210c",
   "metadata": {},
   "outputs": [],
   "source": [
    "X_train, X_test, y_train, y_test = train_test_split(\n",
    "    X, y, test_size = 0.2, random_state = 42)\n",
    "\n",
    "print(\"X_train shape:\", X_train.shape)\n",
    "print(\"y_train shape:\", y_train.shape)\n",
    "print(\"X_test shape:\", X_test.shape)\n",
    "print(\"y_test shape:\", y_test.shape)"
   ]
  },
  {
   "cell_type": "code",
   "execution_count": null,
   "id": "b18d60d9",
   "metadata": {},
   "outputs": [],
   "source": [
    "under_sampler = RandomUnderSampler(random_state=42)\n",
    "X_train_under, y_train_under = under_sampler.fit_resample(X_train, y_train)\n",
    "print(X_train_under.shape)\n",
    "X_train_under.head()"
   ]
  },
  {
   "cell_type": "code",
   "execution_count": null,
   "id": "c9b0b31b",
   "metadata": {},
   "outputs": [],
   "source": [
    "over_sampler = RandomOverSampler(random_state=42)\n",
    "X_train_over, y_train_over = over_sampler.fit_resample(X_train, y_train)\n",
    "print(X_train_over.shape)\n",
    "X_train_over.head()"
   ]
  },
  {
   "cell_type": "code",
   "execution_count": null,
   "id": "2a201b97",
   "metadata": {},
   "outputs": [],
   "source": [
    "# Fit on `X_train`, `y_train`\n",
    "model_reg = make_pipeline(\n",
    "    SimpleImputer(strategy = \"median\"),\n",
    "    DecisionTreeClassifier(random_state = 42)\n",
    ")\n",
    "model_reg.fit(X_train, y_train)\n",
    "\n",
    "# Fit on `X_train_under`, `y_train_under`\n",
    "model_under = make_pipeline(\n",
    "    SimpleImputer(strategy = \"median\"),\n",
    "    DecisionTreeClassifier(random_state = 42)\n",
    ")\n",
    "model_under.fit(X_train_under, y_train_under)\n",
    "\n",
    "# Fit on `X_train_over`, `y_train_over`\n",
    "model_over = make_pipeline(\n",
    "    SimpleImputer(strategy = \"median\"),\n",
    "    DecisionTreeClassifier(random_state = 42)\n",
    ")\n",
    "model_over.fit(X_train_over, y_train_over)"
   ]
  },
  {
   "cell_type": "code",
   "execution_count": null,
   "id": "b110ea06",
   "metadata": {},
   "outputs": [],
   "source": [
    "for m in [model_reg, model_under, model_over]:\n",
    "    acc_train = m.score(X_train, y_train)\n",
    "    acc_test = m.score(X_test, y_test)\n",
    "\n",
    "    print(\"Training Accuracy:\", round(acc_train, 4))\n",
    "    print(\"Test Accuracy:\", round(acc_test, 4))"
   ]
  },
  {
   "cell_type": "code",
   "execution_count": null,
   "id": "d1f1afdf",
   "metadata": {},
   "outputs": [],
   "source": [
    "### how to select between two models with similar accuracy score\n",
    "# Plot confusion matrix\n",
    "ConfusionMatrixDisplay.from_estimator(model_reg, X_test, y_test)"
   ]
  },
  {
   "cell_type": "code",
   "execution_count": null,
   "id": "cac4906b",
   "metadata": {},
   "outputs": [],
   "source": [
    "# Save your model as `\"model-5-2.pkl\"`\n",
    "with open(\"model-5-2.pkl\",\"wb\") as f:\n",
    "    pickle.dump(model_over, f)"
   ]
  },
  {
   "cell_type": "code",
   "execution_count": null,
   "id": "fd9e3a39",
   "metadata": {},
   "outputs": [],
   "source": [
    "# Load `\"model-5-2.pkl\"`\n",
    "with open(\"model-5-2.pkl\",\"rb\") as read_file:\n",
    "    loaded_model = pickle.load(read_file)\n",
    "print(loaded_model)"
   ]
  }
 ],
 "metadata": {
  "kernelspec": {
   "display_name": "Python 3 (ipykernel)",
   "language": "python",
   "name": "python3"
  },
  "language_info": {
   "codemirror_mode": {
    "name": "ipython",
    "version": 3
   },
   "file_extension": ".py",
   "mimetype": "text/x-python",
   "name": "python",
   "nbconvert_exporter": "python",
   "pygments_lexer": "ipython3",
   "version": "3.9.12"
  }
 },
 "nbformat": 4,
 "nbformat_minor": 5
}
