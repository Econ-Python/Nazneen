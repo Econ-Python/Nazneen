{
 "cells": [
  {
   "cell_type": "code",
   "execution_count": 5,
   "id": "c750b34b",
   "metadata": {},
   "outputs": [],
   "source": [
    "import matplotlib.pyplot as plt\n",
    "import numpy as np\n",
    "import pandas as pd\n",
    "import seaborn as sns\n",
    "from category_encoders import OneHotEncoder\n",
    "from sklearn.linear_model import LogisticRegression\n",
    "from sklearn.metrics import accuracy_score\n",
    "from sklearn.model_selection import train_test_split\n",
    "from sklearn.pipeline import Pipeline, make_pipeline\n",
    "import warnings\n",
    "warnings.simplefilter(action=\"ignore\", category=FutureWarning)"
   ]
  },
  {
   "cell_type": "code",
   "execution_count": 7,
   "id": "b23b3729",
   "metadata": {},
   "outputs": [],
   "source": [
    "#pip install category-encoders\n",
    "# go through discuss here if you face issue with pip install for category_encoder"
   ]
  },
  {
   "cell_type": "code",
   "execution_count": 6,
   "id": "0948488d",
   "metadata": {},
   "outputs": [
    {
     "data": {
      "text/plain": [
       "'C:\\\\Users\\\\nazne'"
      ]
     },
     "execution_count": 6,
     "metadata": {},
     "output_type": "execute_result"
    }
   ],
   "source": [
    "import os\n",
    "os.getcwd()"
   ]
  },
  {
   "cell_type": "code",
   "execution_count": null,
   "id": "53fd23a8",
   "metadata": {},
   "outputs": [],
   "source": [
    "# Create correlation matrix\n",
    "correlation = df.iloc[:, :-1].select_dtypes(\"number\").corr()\n",
    "# Plot heatmap of `correlation`\n",
    "sns.heatmap(correlation, annot=True)"
   ]
  },
  {
   "cell_type": "code",
   "execution_count": null,
   "id": "0e2292c5",
   "metadata": {},
   "outputs": [],
   "source": [
    "# Create boxplot\n",
    "sns.boxplot(x = \"severe_damage\", y = \"height_ft_pre_eq\", data = df)\n",
    "# Label axes\n",
    "plt.xlabel(\"Severe Damage\")\n",
    "plt.ylabel(\"Height Pre earthquake [ft.]\")\n",
    "plt.title(\"Distribution of Building Height by Class\");"
   ]
  },
  {
   "cell_type": "code",
   "execution_count": null,
   "id": "1c12aeb3",
   "metadata": {},
   "outputs": [],
   "source": [
    "# Plot bar chart of `foundation_pivot`\n",
    "foundation_pivot.plot(kind = \"barh\", legend = None)\n",
    "plt.axvline(\n",
    "    majority_class_prop, linestyle = \"--\", color = \"red\", label = \"majority class\")\n",
    "plt.axvline(\n",
    "    minority_class_prop, linestyle = \"--\" , color = \"green\", label = \"minority class\")\n",
    "plt.legend(loc = \"lower right\");"
   ]
  },
  {
   "cell_type": "code",
   "execution_count": null,
   "id": "565a3f13",
   "metadata": {},
   "outputs": [],
   "source": [
    "X_train, X_test, y_train, y_test = train_test_split(\n",
    "    X, y, test_size=0.2, random_state=42\n",
    ")"
   ]
  },
  {
   "cell_type": "code",
   "execution_count": null,
   "id": "efe0a8de",
   "metadata": {},
   "outputs": [],
   "source": [
    "# Build model\n",
    "model = Pipeline([\n",
    "   ( \"onehot_encoder\" , OneHotEncoder(use_cat_names = True)),\n",
    "   ( \"logistic_reg\", LogisticRegression(max_iter = 1000))\n",
    "])\n",
    "# Fit model to training data\n",
    "model.fit(X_train,y_train)"
   ]
  },
  {
   "cell_type": "code",
   "execution_count": null,
   "id": "7f10e868",
   "metadata": {},
   "outputs": [],
   "source": [
    "acc_train = accuracy_score(y_train, model.predict(X_train))\n",
    "acc_test = accuracy_score(y_test,model.predict(X_test))\n",
    "\n",
    "# or accu_score = score(X, y)\n",
    "print(\"Training Accuracy:\", round(acc_train, 2))\n",
    "print(\"Test Accuracy:\", round(acc_test, 2))"
   ]
  },
  {
   "cell_type": "code",
   "execution_count": null,
   "id": "a7244afc",
   "metadata": {},
   "outputs": [],
   "source": [
    "y_train_pred_proba = model.predict_proba(X_train)\n",
    "print(y_train_pred_proba[:5])"
   ]
  },
  {
   "cell_type": "code",
   "execution_count": null,
   "id": "fc9a356a",
   "metadata": {},
   "outputs": [],
   "source": [
    "features = model[\"onehot_encoder\"].get_feature_names()\n",
    "importances = model[\"logistic_reg\"].coef_[0]"
   ]
  },
  {
   "cell_type": "code",
   "execution_count": null,
   "id": "c51f115c",
   "metadata": {},
   "outputs": [],
   "source": [
    "odds_ratios = pd.Series(np.exp(importances), index = features).sort_values()\n",
    "odds_ratios.head()"
   ]
  },
  {
   "cell_type": "code",
   "execution_count": null,
   "id": "a1222c1d",
   "metadata": {},
   "outputs": [],
   "source": [
    "# Horizontal bar chart, five smallest coefficients\n",
    "odds_ratio.head().plot(kind = 'barh', legend = None)"
   ]
  },
  {
   "cell_type": "code",
   "execution_count": null,
   "id": "67367de3",
   "metadata": {},
   "outputs": [],
   "source": [
    "An additional method of interpreting the coefficients is through odds ratios. One way to get the odds ratio for a feature is to exponentiate the coefficient:\n",
    "\n",
    "Odds Ratio > 1: The feature increases the odds of the outcome.\n",
    "Odds Ratio < 1: The feature decreases the odds of the outcome.\n",
    "Odds Ratio = 1: The feature does not affect the odds of the outcome."
   ]
  },
  {
   "cell_type": "code",
   "execution_count": null,
   "id": "382aa982",
   "metadata": {},
   "outputs": [],
   "source": [
    "Positive Coefficient: Indicates that an increase in the predictor variable increases the log odds of the positive class.\n",
    "Negative Coefficient: Indicates that an increase in the predictor variable decreases the log odds of the positive class."
   ]
  }
 ],
 "metadata": {
  "kernelspec": {
   "display_name": "Python 3 (ipykernel)",
   "language": "python",
   "name": "python3"
  },
  "language_info": {
   "codemirror_mode": {
    "name": "ipython",
    "version": 3
   },
   "file_extension": ".py",
   "mimetype": "text/x-python",
   "name": "python",
   "nbconvert_exporter": "python",
   "pygments_lexer": "ipython3",
   "version": "3.9.12"
  }
 },
 "nbformat": 4,
 "nbformat_minor": 5
}
