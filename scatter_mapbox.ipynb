{
 "cells": [
  {
   "cell_type": "code",
   "execution_count": null,
   "id": "32b10699",
   "metadata": {},
   "outputs": [],
   "source": [
    "# map like plot using plotly express"
   ]
  },
  {
   "cell_type": "code",
   "execution_count": null,
   "id": "2b7e49c5",
   "metadata": {},
   "outputs": [],
   "source": [
    "import plotly.express as px\n",
    "\n",
    "# Use plotly express to create figure\n",
    "fig = px.scatter_mapbox(\n",
    "    df,  # Our DataFrame\n",
    "    lat= \"lat\", # column name containing lateral location\n",
    "    lon= \"lon\", # column name containing longitudinal location\n",
    "    center={\"lat\": 19.43, \"lon\": -99.13},  # Map will be centered on Mexico City\n",
    "    width=600,  # Width of map\n",
    "    height=600,  # Height of map\n",
    "    hover_data=[\"price_usd\"],  # Display price when hovering mouse over house\n",
    ")\n",
    "\n",
    "# Add mapbox_style to figure layout\n",
    "fig.update_layout(mapbox_style=\"open-street-map\")\n",
    "\n",
    "# Show figure\n",
    "fig.show()"
   ]
  },
  {
   "cell_type": "code",
   "execution_count": null,
   "id": "5ad72f08",
   "metadata": {},
   "outputs": [],
   "source": [
    "# histogram \n",
    "# Use Matplotlib to create histogram of \"area_m2\"\n",
    "\n",
    "plt.hist(df['area_m2'])\n",
    "# Add x-axis label\n",
    "\n",
    "plt.xlabel(\"Area [sq meters]\")\n",
    "# Add y-axis label\n",
    "plt.ylabel(\"Frequency\")\n",
    "\n",
    "# Add title\n",
    "plt.title(\"Distribution of Home Sizes\");"
   ]
  },
  {
   "cell_type": "code",
   "execution_count": null,
   "id": "53ca9cd0",
   "metadata": {},
   "outputs": [],
   "source": [
    "# boxplot\n",
    "# Use Matplotlib to create boxplot of \"area_m2\"\n",
    "plt.boxplot(df['area_m2'], vert = False )\n",
    "\n",
    "# Add x-axis label\n",
    "plt.xlabel(\"Area [sq meters]\")\n",
    "\n",
    "# Add title\n",
    "plt.title(\"Distribution of Home Sizes\");"
   ]
  },
  {
   "cell_type": "code",
   "execution_count": null,
   "id": "550f6d92",
   "metadata": {},
   "outputs": [],
   "source": [
    "# bar plot using pandas library\n",
    "# Create bar chart from `mean_price_by_state` using pandas\n",
    "mean_price_by_state.plot(\n",
    "    kind = 'bar',\n",
    "    ylabel = \"Mean Price [USD]\",\n",
    "    xlabel = \"State\",\n",
    "    title = \"Mean House Price by State\"\n",
    ")"
   ]
  },
  {
   "cell_type": "code",
   "execution_count": null,
   "id": "762cbd43",
   "metadata": {},
   "outputs": [],
   "source": [
    "# scatter plot\n",
    "# Create scatter plot of \"price_usd\" vs \"area_m2\"\n",
    "plt.scatter(x = df['price_usd'], y = df['area_m2'])\n",
    "\n",
    "# Add x-axis label\n",
    "plt.xlabel(\"Area [sq meters]\")\n",
    "\n",
    "# Add y-axis label\n",
    "plt.ylabel(\"Price [USD]\")\n",
    "\n",
    "# Add title\n",
    "plt.title(\"Price vs Area\");"
   ]
  },
  {
   "cell_type": "markdown",
   "id": "97a3e3c9",
   "metadata": {},
   "source": [
    "**Task 1.5.19:** Create a dictionary `south_states_corr`, where the keys are the names of the three states in the `\"South\"` region of Brazil, and their associated values are the correlation coefficient between `\"area_m2\"` and `\"price_usd\"` in that state.\n",
    "\n",
    "As an example, here's a dictionary with the states and correlation coefficients for the Southeast region. Since you're looking at a different region, the states and coefficients will be different, but the structure of the dictionary will be the same.\n",
    "\n",
    "```python\n",
    "{'Espírito Santo': 0.6311332554173303,\n",
    " 'Minas Gerais': 0.5830029036378931,\n",
    " 'Rio de Janeiro': 0.4554077103515366,\n",
    " 'São Paulo': 0.45882050624839366}\n",
    "```"
   ]
  },
  {
   "cell_type": "code",
   "execution_count": null,
   "id": "73be94db",
   "metadata": {},
   "outputs": [],
   "source": [
    "south_states_corr =df_south.groupby(['state'])['area_m2','price_usd'].corr().unstack().iloc[:,1]\n",
    "\n",
    "south_states_corr = south_states_corr.to_dict()\n",
    "south_states_corr     "
   ]
  },
  {
   "cell_type": "markdown",
   "id": "d04f69a3",
   "metadata": {},
   "source": [
    "Because variance is the squared deviation from the mean, it's heavily influenced by outliers. When the difference between the outliers and the mean are too far away from each other, the variance might not reveal the true information of how data points are distributed. In this case, we can calculate trimmed variance instead. Trimmed variance is the variance calculated excluding the largest and the smallest data points. Using trimmed_var function in the SciPy library, we can calculate the trimmed variance for a column."
   ]
  },
  {
   "cell_type": "code",
   "execution_count": null,
   "id": "210eb816",
   "metadata": {},
   "outputs": [],
   "source": [
    "from scipy import stats\n",
    "\n",
    "stats.mstats.trimmed_var(df[\"area_m2\"])"
   ]
  },
  {
   "cell_type": "markdown",
   "id": "5e664d86",
   "metadata": {},
   "source": [
    "# References & Further Reading\n",
    "- [Pandas Documentation on Dropping a Column in a DataFrame](https://pandas.pydata.org/docs/reference/api/pandas.DataFrame.drop.html)\n",
    "- [Pandas Documentation on Printing out the First Few Rows of a DataFrame](https://pandas.pydata.org/docs/reference/api/pandas.DataFrame.head.html)\n",
    "- [Pandas Documentation on Reading in a CSV File Into a DataFrame](https://pandas.pydata.org/docs/reference/api/pandas.read_csv.html)\n",
    "- [Getting Started with Pandas Documentation](https://pandas.pydata.org/docs/getting_started/intro_tutorials/01_table_oriented.html#min-tut-01-tableoriented)\n",
    "- [Pandas Documentation on Extracting a Column to a Series](https://pandas.pydata.org/docs/getting_started/intro_tutorials/01_table_oriented.html#each-column-in-a-dataframe-is-a-series)\n",
    "- [Pandas Official Indexing Guide](https://pandas.pydata.org/pandas-docs/stable/user_guide/indexing.html)\n",
    "- [Series in pandas](https://www.geeksforgeeks.org/python-pandas-series/)\n",
    "- [Tutorial for `value_counts`](https://www.geeksforgeeks.org/python-pandas-series-value_counts/)\n",
    "- [Tutorial for `groupby`](https://pandas.pydata.org/pandas-docs/dev/reference/api/pandas.DataFrame.groupby.html)\n",
    "- [pandas Documentation for `groupby`](https://pandas.pydata.org/pandas-docs/version/0.25.3/reference/api/pandas.core.groupby.GroupBy.mean.html)\n",
    "- [Pandas Official Indexing Guide](https://pandas.pydata.org/pandas-docs/stable/user_guide/indexing.html)\n",
    "- [Online Examples of Selecting Numeric Columns of a DataFrame](https://pythonexamples.org/pandas-dataframe-select-columns-of-numeric-datatype/)\n",
    "- [Official Pandas Documentation on Data Types in a DataFrame](https://pandas.pydata.org/docs/reference/api/pandas.DataFrame.select_dtypes.html)\n",
    "- [Pandas documentation for Boolean indexing](https://pandas.pydata.org/pandas-docs/stable/user_guide/indexing.html#boolean-indexing)\n",
    "- [More information on creating various kinds of subsets](https://datacarpentry.org/python-ecology-lesson/03-index-slice-subset/index.html#subsetting-data-using-criteria)\n",
    "- [More on boolean indexing](https://pandas.pydata.org/pandas-docs/stable/user_guide/indexing.html#boolean-indexing)\n",
    "- [A tutorial on using various criteria to create subsets](https://datacarpentry.org/python-ecology-lesson/03-index-slice-subset/index.html#subsetting-data-using-criteria)\n",
    "- [Pandas.DataFrame.apply](https://pandas.pydata.org/docs/reference/api/pandas.DataFrame.apply.html)\n",
    "- [Pandas.DataFrame.aggregate](https://pandas.pydata.org/docs/reference/api/pandas.DataFrame.aggregate.html)"
   ]
  },
  {
   "cell_type": "markdown",
   "id": "84c14d03",
   "metadata": {},
   "source": [
    "# References & Further Reading\n",
    "\n",
    "- [Brief Descriptions of Central Tendency](https://www.scribbr.com/statistics/central-tendency/)\n",
    "- [Pandas Documentation on Summary Statistics](https://pandas.pydata.org/docs/reference/api/pandas.DataFrame.describe.html)\n",
    "- [Pandas Documentation on Quantiles](https://pandas.pydata.org/pandas-docs/stable/reference/api/pandas.DataFrame.quantile.html)\n",
    "- [Background on Correlations](https://www.statisticshowto.com/probability-and-statistics/correlation-coefficient-formula/)"
   ]
  },
  {
   "cell_type": "markdown",
   "id": "d309889d",
   "metadata": {},
   "source": [
    "# References & Further Reading \n",
    "\n",
    "- [Tutorial for `shape`](https://www.w3resource.com/pandas/dataframe/dataframe-shape.php)\n",
    "- [Tutorial for `info`](https://www.w3schools.com/python/pandas/ref_df_info.asp)\n",
    "- [Adding columns to a DataFrame](https://pandas.pydata.org/pandas-docs/version/1.0.5/getting_started/intro_tutorials/05_add_columns.html)\n",
    "- [Creating DataFrame from dictionary](https://pandas.pydata.org/docs/reference/api/pandas.DataFrame.from_dict.html)\n",
    "- [Working with JSON](https://realpython.com/python-json/)\n",
    "- [Dropping columns from a DataFrame](https://www.w3schools.com/python/pandas/ref_df_drop.asp)\n",
    "- [Splitting columns in a DataFrame](https://www.geeksforgeeks.org/split-a-text-column-into-two-columns-in-pandas-dataframe/)\n",
    "- [Recasting values](https://www.w3schools.com/Python/pandas/ref_df_astype.asp)\n",
    "- [Replacing strings](https://www.w3schools.com/python/ref_string_replace.asp)\n",
    "- [Concatenating DataFrames](https://cmdlinetips.com/2020/04/how-to-concatenate-two-or-more-pandas-dataframes/)\n",
    "- [From DataFrames to Series](https://datatofish.com/pandas-dataframe-to-series/)\n",
    "- [Stack Overflow: What is serialization](https://stackoverflow.com/questions/633402/what-is-serialization)\n",
    "- [Understand Python Pickling](https://www.synopsys.com/blogs/software-security/python-pickling/#:~:text=Pickle%20in%20Python%20is%20primarily,transport%20data%20over%20the%20network.)"
   ]
  },
  {
   "cell_type": "markdown",
   "id": "89d9aec6",
   "metadata": {},
   "source": [
    "# Sources & Further Reading\n",
    "\n",
    "- [Example Boxplot from the Matplotlib Documentation](https://matplotlib.org/3.1.1/gallery/pyplots/boxplot_demo_pyplot.html#sphx-glr-gallery-pyplots-boxplot-demo-pyplot-py)\n",
    "- [Discussion of How to Interpret a Histogram](https://www150.statcan.gc.ca/n1/edu/power-pouvoir/ch9/histo/5214822-eng.htm)\n",
    "- [Python Documentation on Histograms](https://realpython.com/python-histograms/#visualizing-histograms-with-matplotlib-and-pandas)\n",
    "- [Pandas Official DataFrame Bar Plot Documentation](https://pandas.pydata.org/pandas-docs/stable/reference/api/pandas.DataFrame.plot.bar.html)\n",
    "- [Online Tutorial on Using Groupby and Count in Pandas](https://www.statology.org/pandas-groupby-count/)\n",
    "- [Pandas Official Documentation on Splitting a String Entry in a Column](https://pandas.pydata.org/pandas-docs/stable/reference/api/pandas.Series.str.split.html)\n",
    "- [Wikipedia Entry on Boroughs of Mexico City](https://en.wikipedia.org/wiki/Boroughs_of_Mexico_City)\n",
    "- [stackoverflow Entry on Adding Labels and Titles to Pandas Plots](https://stackoverflow.com/questions/63650646/add-labels-and-title-to-a-plot-made-using-pandas#63650741)\n",
    "- [Further Information on Scatter Plots](https://chartio.com/learn/charts/what-is-a-scatter-plot/)\n",
    "- [Scatter Plot Tutorial](https://www.tutorialspoint.com/matplotlib/matplotlib_scatter_plot.htm)\n",
    "- [Subsetting Random Samples in a DataFrame](https://pandas.pydata.org/pandas-docs/stable/reference/api/pandas.DataFrame.sample.html)\n",
    "- [Pandas `corr` Documentation](https://pandas.pydata.org/docs/reference/api/pandas.DataFrame.corr.html)"
   ]
  },
  {
   "cell_type": "markdown",
   "id": "2eca06c3",
   "metadata": {},
   "source": [
    "# References & Further Reading\n",
    "\n",
    "- [A guide to basic math operations in Python](https://codingexplained.com/coding/python/basic-math-operators-in-python)\n",
    "- [Python documentation on built-in data types](https://docs.python.org/3/library/stdtypes.html)\n",
    "- [Summary of Python data types](https://www.w3schools.com/python/python_datatypes.asp)\n",
    "- [Tutorial on type conversion in Python](https://www.datacamp.com/community/tutorials/python-data-type-conversion)\n",
    "- [A description of how dictionaries work in Python](https://www.w3schools.com/python/python_dictionaries.asp)\n",
    "- [An introduction to JSON](https://www.w3schools.com/js/js_json_syntax.asp)\n",
    "- [An introduction to lists in Python](https://www.w3schools.com/python/python_lists.asp)\n",
    "- [How to zip lists](https://www.kite.com/python/answers/how-to-zip-two-lists-in-python)\n",
    "- [Calculating mean, median, and mode in Python](https://stackabuse.com/calculating-mean-median-and-mode-in-python/)\n",
    "- [A brief tutorial of For Loops](https://www.w3schools.com/python/python_for_loops.asp)"
   ]
  },
  {
   "cell_type": "markdown",
   "id": "d965607d",
   "metadata": {},
   "source": [
    "# References & Further Reading\n",
    "\n",
    "- [Online Tutorial on Correlation Matrices using Pandas](https://www.stackvidhya.com/plot-correlation-matrix-in-pandas-python/)\n",
    "- [Official Pandas Documentation on Correlations in DataFrames](https://pandas.pydata.org/pandas-docs/stable/reference/api/pandas.DataFrame.corr.html)\n",
    "- [Official Pandas Documentation on Styling a Table](https://pandas.pydata.org/pandas-docs/stable/reference/api/pandas.io.formats.style.Styler.background_gradient.html)\n",
    "- [Wikipedia Article on Correlation](https://en.wikipedia.org/wiki/Correlation)\n",
    "- [Investopedia Article on Correlation](https://www.investopedia.com/terms/c/correlationcoefficient.asp)\n",
    "- [Online Tutorial on Correlations](https://www.statology.org/what-is-a-strong-correlation/)\n",
    "- [Pandas Documentation for Bar Charts](https://pandas.pydata.org/docs/reference/api/pandas.DataFrame.plot.barh.html)\n",
    "- [Pandas Official Visualization User Guide](https://pandas.pydata.org/pandas-docs/stable/user_guide/visualization.html)\n",
    "- [Pandas Official Documentation on Sorting Values in a DataFrame](https://pandas.pydata.org/pandas-docs/stable/reference/api/pandas.DataFrame.sort_values.html#pandas.DataFrame.sort_values)"
   ]
  },
  {
   "cell_type": "markdown",
   "id": "04fbe4ff",
   "metadata": {},
   "source": [
    "# References and Further Reading\n",
    "- [Official plotly express Documentation on Scatter Plots](https://plotly.com/python/plotly-express/#scatter-line-area-and-bar-charts)\n",
    "- [Official plotly Express Documentation on 3D Plots](https://plotly.com/python/plotly-express/#3d-coordinates)\n",
    "- [Official plotly Documentation on Notebooks](https://plotly.com/python/ipython-notebook-tutorial/)\n",
    "- [plotly Community Forum Post on Axis Labeling](https://community.plotly.com/t/re-name-the-axes-in-plotly-express/39645/3)\n",
    "- [plotly express Official Documentation on Tile Maps](https://plotly.com/python/plotly-express/#tile-maps)\n",
    "- [plotly Choropleth Maps in Python Document](https://plotly.com/python/choropleth-maps/)\n",
    "- [plotly express Official Documentation on Figure Display](https://plotly.com/python/renderers/#setting-the-default-renderer)\n",
    "- [Online Tutorial on String Conversion in Pandas](https://www.statology.org/convert-string-to-float-pandas/)\n",
    "- [Official Pandas Documentation on using Lambda Functions on a Column](https://pandas.pydata.org/pandas-docs/stable/reference/api/pandas.DataFrame.apply.html)\n",
    "- [Official Seaborn Documentation on Generating a Heatmap](https://seaborn.pydata.org/generated/seaborn.heatmap.html)\n",
    "- [Online Tutorial on Correlation Matrices in Pandas](https://www.stackvidhya.com/plot-correlation-matrix-in-pandas-python/)\n",
    "- [Official Pandas Documentation on Correlation Matrices](https://pandas.pydata.org/pandas-docs/stable/reference/api/pandas.DataFrame.corr.html)\n",
    "- [Official Matplotlib Documentation on Colormaps](https://matplotlib.org/stable/tutorials/colors/colormaps.html)\n",
    "- [Official Pandas Documentation on Box Plots](https://pandas.pydata.org/pandas-docs/stable/user_guide/visualization.html#box-plots)\n",
    "- [Online Tutorial on Box Plots](https://www.statology.org/matplotlib-boxplot-by-group/)\n",
    "- [Online Tutorial on Axes Labels in Seaborn and Matplotlib](https://www.geeksforgeeks.org/rotate-axis-tick-labels-in-seaborn-and-matplotlib/)\n",
    "- [Matplotlib Gallery Example of an Annotated Heatmap](https://matplotlib.org/stable/gallery/images_contours_and_fields/image_annotated_heatmap.html#sphx-glr-gallery-images-contours-and-fields-image-annotated-heatmap-py)"
   ]
  },
  {
   "cell_type": "markdown",
   "id": "08f48e27",
   "metadata": {},
   "source": [
    "*References & Further Reading*\n",
    "- [One-Hot Encoding with the Category Encoder Package](https://contrib.scikit-learn.org/category_encoders/onehot.html)\n",
    "- [Example of Using One-Hot Encoding](https://scikit-learn.org/stable/auto_examples/linear_model/plot_tweedie_regression_insurance_claims.html#sphx-glr-auto-examples-linear-model-plot-tweedie-regression-insurance-claims-py)\n",
    "- [Online Example of Using One-Hot Encoding](https://stackabuse.com/one-hot-encoding-in-python-with-pandas-and-scikit-learn/)\n",
    "- [Official pandas Documentation on Get Dummies](https://pandas.pydata.org/pandas-docs/stable/reference/api/pandas.get_dummies.html)\n",
    "- [Online Tutorial on Pipelines for Linear Regression](https://mahmoudyusof.github.io/general/scikit-learn-pipelines/)\n",
    "- [scikit-learn Pipeline Documentation](https://scikit-learn.org/stable/modules/compose.html#combining-estimators)\n",
    "- [Wikipedia article on the curse of dimensionality](https://en.wikipedia.org/wiki/Curse_of_dimensionality#Machine_Learning)\n",
    "- [Wikipedia Article on Leakage in Machine Learning](https://en.wikipedia.org/wiki/Leakage_(machine_learning))\n",
    "- [Official Pandas Documentation on Missing Data](https://pandas.pydata.org/pandas-docs/stable/user_guide/missing_data.html)\n",
    "- [Wikipedia Article on Imputation](https://en.wikipedia.org/wiki/Imputation_(statistics))\n",
    "- [Online Tutorial on Removing Rows with Missing Data](https://datatofish.com/rows-with-nan-pandas-dataframe/)\n",
    "- [scikit-learn Documentation on `SimpleImputer`](https://scikit-learn.org/stable/modules/generated/sklearn.impute.SimpleImputer.html)\n",
    "- [imbalanced-learn Documentation](https://imbalanced-learn.org/stable/)"
   ]
  },
  {
   "cell_type": "code",
   "execution_count": null,
   "id": "b008af14",
   "metadata": {},
   "outputs": [],
   "source": []
  }
 ],
 "metadata": {
  "kernelspec": {
   "display_name": "Python 3 (ipykernel)",
   "language": "python",
   "name": "python3"
  },
  "language_info": {
   "codemirror_mode": {
    "name": "ipython",
    "version": 3
   },
   "file_extension": ".py",
   "mimetype": "text/x-python",
   "name": "python",
   "nbconvert_exporter": "python",
   "pygments_lexer": "ipython3",
   "version": "3.9.12"
  }
 },
 "nbformat": 4,
 "nbformat_minor": 5
}
