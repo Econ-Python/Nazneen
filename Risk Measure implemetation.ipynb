{
 "cells": [
  {
   "cell_type": "markdown",
   "id": "49df1222",
   "metadata": {},
   "source": [
    "# Cross Sectional Systematic risk measure"
   ]
  },
  {
   "cell_type": "markdown",
   "id": "7965359e",
   "metadata": {},
   "source": [
    "### Definitions, Pseudocode and python function\n",
    "**1. CoVaR (Conditional Value at Risk)**\n",
    "\n",
    "Definition:\n",
    "CoVaR measures the Value at Risk (VaR) of the financial system, conditional on a particular institution being in distress. It helps assess how much systemic risk a firm contributes.\n",
    "\n"
   ]
  },
  {
   "cell_type": "code",
   "execution_count": null,
   "id": "da63cccb",
   "metadata": {},
   "outputs": [],
   "source": [
    "Function CoVaR(institution_returns, system_returns, quantile):\n",
    "    Compute VaR of the institution at the given quantile\n",
    "    Select system returns where the institution is in distress (below its VaR)\n",
    "    Compute the system's VaR over those conditional periods\n",
    "    Return the conditional VaR (CoVaR)"
   ]
  },
  {
   "cell_type": "code",
   "execution_count": 1,
   "id": "01ac991d",
   "metadata": {},
   "outputs": [],
   "source": [
    "def CoVaR(institution_returns, system_returns, quantile=0.05):\n",
    "    var_i = np.quantile(institution_returns, quantile)\n",
    "    mask = institution_returns <= var_i\n",
    "    covar = np.quantile(system_returns[mask], quantile)\n",
    "    return covar"
   ]
  },
  {
   "cell_type": "markdown",
   "id": "849e28e5",
   "metadata": {},
   "source": [
    "**2. MES (Marginal Expected Shortfall)**\n",
    "\n",
    "Definition:\n",
    "MES is the average loss of an institution when the market is experiencing extreme negative returns. It shows how much a firm is expected to lose in systemic crisis scenarios."
   ]
  },
  {
   "cell_type": "code",
   "execution_count": null,
   "id": "87883c2d",
   "metadata": {},
   "outputs": [],
   "source": [
    "Function MES(institution_returns, market_returns, quantile):\n",
    "    Find the threshold return defining market distress (VaR of the market)\n",
    "    Identify periods when market returns are below that threshold\n",
    "    Calculate the average return of the institution during those periods\n",
    "    Return the average as MES"
   ]
  },
  {
   "cell_type": "code",
   "execution_count": 2,
   "id": "04292d21",
   "metadata": {},
   "outputs": [],
   "source": [
    "def MES(institution_returns, market_returns, quantile=0.05):\n",
    "    threshold = np.quantile(market_returns, quantile)\n",
    "    stress_periods = market_returns <= threshold\n",
    "    mes = institution_returns[stress_periods].mean()\n",
    "    return mes"
   ]
  },
  {
   "cell_type": "markdown",
   "id": "d05f835e",
   "metadata": {},
   "source": [
    "**3. ΔCoVaR (Delta CoVaR)**\n",
    "\n",
    "Definition:\n",
    "ΔCoVaR measures the increase in systemic risk when an institution moves from a normal state (e.g., median) to a stressed state. It quantifies the marginal contribution to systemic risk."
   ]
  },
  {
   "cell_type": "code",
   "execution_count": null,
   "id": "f65f85c2",
   "metadata": {},
   "outputs": [],
   "source": [
    "Function delta_CoVaR(institution_returns, system_returns, quantile):\n",
    "    Compute institution's VaR at given quantile (distress)\n",
    "    Compute institution's VaR at 50% quantile (median)\n",
    "    \n",
    "    Select system returns when institution is in distress\n",
    "    Select system returns when institution is in median state\n",
    "    \n",
    "    Compute system VaR under both conditions\n",
    "    Subtract: CoVaR (distress) - CoVaR (median)\n",
    "    Return the difference as delta CoVaR"
   ]
  },
  {
   "cell_type": "code",
   "execution_count": 3,
   "id": "0f4637de",
   "metadata": {},
   "outputs": [],
   "source": [
    "def delta_CoVaR(institution_returns, system_returns, quantile=0.05):\n",
    "    var_i = np.quantile(institution_returns, quantile)\n",
    "    var_median = np.quantile(institution_returns, 0.5)\n",
    "\n",
    "    covar_distress = np.quantile(system_returns[institution_returns <= var_i], quantile)\n",
    "    covar_median = np.quantile(system_returns[institution_returns <= var_median], quantile)\n",
    "    \n",
    "    return covar_distress - covar_median"
   ]
  },
  {
   "cell_type": "markdown",
   "id": "e8d6766c",
   "metadata": {},
   "source": [
    "# Combined Python code"
   ]
  },
  {
   "cell_type": "code",
   "execution_count": 4,
   "id": "dde28cf4",
   "metadata": {},
   "outputs": [],
   "source": [
    "import numpy as np\n",
    "\n",
    "def CoVaR(institution_returns, system_returns, quantile=0.05):\n",
    "    \"\"\"\n",
    "    Estimate CoVaR of the system given an institution is in distress.\n",
    "    \n",
    "    Params:\n",
    "    - institution_returns: np.array of returns for the institution\n",
    "    - system_returns: np.array of returns for the system or aggregate\n",
    "    - quantile: quantile level (e.g., 0.05 for 5% VaR)\n",
    "    \n",
    "    Returns:\n",
    "    - CoVaR value\n",
    "    \"\"\"\n",
    "    # Get the threshold where the institution is in distress (its VaR)\n",
    "    var_i = np.quantile(institution_returns, quantile)\n",
    "    \n",
    "    # Conditional returns of system when institution is in distress\n",
    "    mask = institution_returns <= var_i\n",
    "    covar = np.quantile(system_returns[mask], quantile)\n",
    "    \n",
    "    return covar\n",
    "\n",
    "def MES(institution_returns, market_returns, quantile=0.05):\n",
    "    \"\"\"\n",
    "    Calculate Marginal Expected Shortfall (MES) for an institution.\n",
    "    \n",
    "    Params:\n",
    "    - institution_returns: np.array\n",
    "    - market_returns: np.array (e.g., Nifty, S&P500)\n",
    "    - quantile: tail quantile to define market stress\n",
    "    \n",
    "    Returns:\n",
    "    - MES value\n",
    "    \"\"\"\n",
    "    # Define market distress period (e.g., bottom 5%)\n",
    "    threshold = np.quantile(market_returns, quantile)\n",
    "    stress_periods = market_returns <= threshold\n",
    "    \n",
    "    # Average return of the institution during those stress periods\n",
    "    mes = institution_returns[stress_periods].mean()\n",
    "    return mes\n",
    "\n",
    "def delta_CoVaR(institution_returns, system_returns, quantile=0.05):\n",
    "    \"\"\"\n",
    "    Calculate Delta CoVaR (change in system risk due to institution's distress)\n",
    "    \n",
    "    Params:\n",
    "    - institution_returns: np.array\n",
    "    - system_returns: np.array\n",
    "    - quantile: distress quantile\n",
    "    \n",
    "    Returns:\n",
    "    - delta CoVaR value\n",
    "    \"\"\"\n",
    "    var_i = np.quantile(institution_returns, quantile)\n",
    "    var_median = np.quantile(institution_returns, 0.5)\n",
    "    \n",
    "    # CoVaR when institution is in distress\n",
    "    covar_distress = np.quantile(system_returns[institution_returns <= var_i], quantile)\n",
    "    \n",
    "    # CoVaR when institution is in median state\n",
    "    covar_median = np.quantile(system_returns[institution_returns <= var_median], quantile)\n",
    "    \n",
    "    delta_covar = covar_distress - covar_median\n",
    "    return delta_covar\n",
    "\n"
   ]
  },
  {
   "cell_type": "code",
   "execution_count": 5,
   "id": "7219cb7e",
   "metadata": {},
   "outputs": [
    {
     "name": "stdout",
     "output_type": "stream",
     "text": [
      "CoVaR: -0.02813119826436948\n",
      "MES: -0.006068953998049488\n",
      "Delta CoVaR: -0.0008824113780089016\n"
     ]
    }
   ],
   "source": [
    "##### sample test ######\n",
    "# Example data\n",
    "np.random.seed(0)\n",
    "institution = np.random.normal(-0.01, 0.02, 1000)\n",
    "system = np.random.normal(-0.005, 0.015, 1000)\n",
    "\n",
    "# Calculate measures\n",
    "print(\"CoVaR:\", CoVaR(institution, system))\n",
    "print(\"MES:\", MES(institution, system))\n",
    "print(\"Delta CoVaR:\", delta_CoVaR(institution, system))"
   ]
  },
  {
   "cell_type": "markdown",
   "id": "2de77008",
   "metadata": {},
   "source": [
    "# Q4 code part\n",
    "🔹 Goal:\n",
    "\n",
    "* Use Spadafora et al.’s order statistics-based volatility estimator.\n",
    "\n",
    "* Detect jumps and analyze how volatility behaves.\n",
    "\n",
    "* Reflect on the insights gained vs traditional volatility models (e.g., rolling std dev)."
   ]
  },
  {
   "cell_type": "code",
   "execution_count": 13,
   "id": "eb592ccc",
   "metadata": {},
   "outputs": [
    {
     "name": "stdout",
     "output_type": "stream",
     "text": [
      "using static file\n"
     ]
    }
   ],
   "source": [
    "import yfinance as yf\n",
    "import pandas as pd\n",
    "import numpy as np\n",
    "import matplotlib.pyplot as plt\n",
    "\n",
    "# # Fetch NIFTY 50 data (you can change to another stock/index)\n",
    "# data = yf.download(\"^NSEI\", start=\"2014-01-01\", end=\"2025-01-01\", auto_adjust = False)\n",
    "# data['Return'] = data['Adj Close'].pct_change()\n",
    "# returns = data['Return'].dropna()\n",
    "\n",
    "# import yfinance as yf\n",
    "\n",
    "# Example: Fetch 5-minute intraday data (Nifty 50 ETF as proxy)\n",
    "try:\n",
    "    ticker = yf.Ticker(\"^NSEI\")  # Not all indices support intraday, consider NIFTYBEES or SBIN.NS\n",
    "    data = ticker.history(period=\"60d\", interval=\"5m\")\n",
    "    print('yahoo finance connection not working')\n",
    "except:\n",
    "    print(\"using static file\")\n",
    "    data = pd.read_csv(r\"C:\\Users\\nazne\\Downloads\\2025\\NSE intraday data.csv\")"
   ]
  },
  {
   "cell_type": "code",
   "execution_count": 17,
   "id": "948a889d",
   "metadata": {},
   "outputs": [
    {
     "data": {
      "text/html": [
       "<div>\n",
       "<style scoped>\n",
       "    .dataframe tbody tr th:only-of-type {\n",
       "        vertical-align: middle;\n",
       "    }\n",
       "\n",
       "    .dataframe tbody tr th {\n",
       "        vertical-align: top;\n",
       "    }\n",
       "\n",
       "    .dataframe thead th {\n",
       "        text-align: right;\n",
       "    }\n",
       "</style>\n",
       "<table border=\"1\" class=\"dataframe\">\n",
       "  <thead>\n",
       "    <tr style=\"text-align: right;\">\n",
       "      <th></th>\n",
       "      <th>Datetime</th>\n",
       "      <th>Open</th>\n",
       "      <th>High</th>\n",
       "      <th>Low</th>\n",
       "      <th>Close</th>\n",
       "      <th>Volume</th>\n",
       "      <th>Dividends</th>\n",
       "      <th>Stock Splits</th>\n",
       "    </tr>\n",
       "  </thead>\n",
       "  <tbody>\n",
       "    <tr>\n",
       "      <th>0</th>\n",
       "      <td>2025-06-30 09:15:00+05:30</td>\n",
       "      <td>25660.949219</td>\n",
       "      <td>25664.849609</td>\n",
       "      <td>25592.300781</td>\n",
       "      <td>25611.349609</td>\n",
       "      <td>0</td>\n",
       "      <td>0.0</td>\n",
       "      <td>0.0</td>\n",
       "    </tr>\n",
       "    <tr>\n",
       "      <th>1</th>\n",
       "      <td>2025-06-30 09:20:00+05:30</td>\n",
       "      <td>25610.550781</td>\n",
       "      <td>25637.650391</td>\n",
       "      <td>25598.550781</td>\n",
       "      <td>25636.150391</td>\n",
       "      <td>0</td>\n",
       "      <td>0.0</td>\n",
       "      <td>0.0</td>\n",
       "    </tr>\n",
       "    <tr>\n",
       "      <th>2</th>\n",
       "      <td>2025-06-30 09:25:00+05:30</td>\n",
       "      <td>25635.699219</td>\n",
       "      <td>25651.050781</td>\n",
       "      <td>25625.300781</td>\n",
       "      <td>25632.599609</td>\n",
       "      <td>0</td>\n",
       "      <td>0.0</td>\n",
       "      <td>0.0</td>\n",
       "    </tr>\n",
       "    <tr>\n",
       "      <th>3</th>\n",
       "      <td>2025-06-30 09:30:00+05:30</td>\n",
       "      <td>25631.849609</td>\n",
       "      <td>25631.949219</td>\n",
       "      <td>25597.949219</td>\n",
       "      <td>25609.650391</td>\n",
       "      <td>0</td>\n",
       "      <td>0.0</td>\n",
       "      <td>0.0</td>\n",
       "    </tr>\n",
       "    <tr>\n",
       "      <th>4</th>\n",
       "      <td>2025-06-30 09:35:00+05:30</td>\n",
       "      <td>25608.949219</td>\n",
       "      <td>25612.599609</td>\n",
       "      <td>25591.500000</td>\n",
       "      <td>25596.949219</td>\n",
       "      <td>0</td>\n",
       "      <td>0.0</td>\n",
       "      <td>0.0</td>\n",
       "    </tr>\n",
       "  </tbody>\n",
       "</table>\n",
       "</div>"
      ],
      "text/plain": [
       "                    Datetime          Open          High           Low  \\\n",
       "0  2025-06-30 09:15:00+05:30  25660.949219  25664.849609  25592.300781   \n",
       "1  2025-06-30 09:20:00+05:30  25610.550781  25637.650391  25598.550781   \n",
       "2  2025-06-30 09:25:00+05:30  25635.699219  25651.050781  25625.300781   \n",
       "3  2025-06-30 09:30:00+05:30  25631.849609  25631.949219  25597.949219   \n",
       "4  2025-06-30 09:35:00+05:30  25608.949219  25612.599609  25591.500000   \n",
       "\n",
       "          Close  Volume  Dividends  Stock Splits  \n",
       "0  25611.349609       0        0.0           0.0  \n",
       "1  25636.150391       0        0.0           0.0  \n",
       "2  25632.599609       0        0.0           0.0  \n",
       "3  25609.650391       0        0.0           0.0  \n",
       "4  25596.949219       0        0.0           0.0  "
      ]
     },
     "execution_count": 17,
     "metadata": {},
     "output_type": "execute_result"
    }
   ],
   "source": [
    "data.head()"
   ]
  },
  {
   "cell_type": "code",
   "execution_count": 21,
   "id": "17a357b3",
   "metadata": {},
   "outputs": [],
   "source": [
    "########### calculate returns ########\n",
    "data['Return'] = data['Close'].pct_change()\n",
    "returns = data['Return'].dropna()"
   ]
  },
  {
   "cell_type": "code",
   "execution_count": 22,
   "id": "c9005ea4",
   "metadata": {},
   "outputs": [],
   "source": [
    "############## Step 2: Implement the Spadafora Volatility Estimator\n",
    "def local_volatility_estimator(returns, window=30, exclude_top_n=2):\n",
    "    vol_estimates = []\n",
    "    \n",
    "    for i in range(window, len(returns)):\n",
    "        window_returns = returns[i-window:i].abs()\n",
    "        sorted_returns = np.sort(window_returns)\n",
    "        \n",
    "        # Exclude the top 'n' largest returns to avoid jumps\n",
    "        trimmed_returns = sorted_returns[:-exclude_top_n]\n",
    "        local_vol = trimmed_returns.mean()\n",
    "        \n",
    "        vol_estimates.append(local_vol)\n",
    "        \n",
    "    # Align with index\n",
    "    return pd.Series(vol_estimates, index=returns.index[window:])\n",
    "\n",
    "################ Step 3: Identify Jumps\n",
    "def detect_jumps(returns, local_vols, theta=4):\n",
    "    ret_series = returns[local_vols.index]\n",
    "    jump_flags = (ret_series.abs() > (theta * local_vols)).astype(int)\n",
    "    return jump_flags\n"
   ]
  },
  {
   "cell_type": "markdown",
   "id": "3c1e9504",
   "metadata": {},
   "source": [
    "## Step 4: Run the Model"
   ]
  },
  {
   "cell_type": "code",
   "execution_count": 24,
   "id": "28420d6c",
   "metadata": {},
   "outputs": [
    {
     "data": {
      "image/png": "[encoded data removed]",
      "text/plain": [
       "<Figure size 1008x432 with 1 Axes>"
      ]
     },
     "metadata": {
      "needs_background": "light"
     },
     "output_type": "display_data"
    }
   ],
   "source": [
    "# Step 1: Estimate local volatility\n",
    "local_vols = local_volatility_estimator(returns, window=30, exclude_top_n=2)\n",
    "\n",
    "# Align returns to the jumps' index\n",
    "aligned_returns = returns[local_vols.index]\n",
    "\n",
    "# Select returns where jump is detected\n",
    "jump_returns = aligned_returns[jumps == 1]\n",
    "\n",
    "# Plot\n",
    "plt.figure(figsize=(14, 6))\n",
    "plt.plot(returns.index, returns, label='Daily Returns', alpha=0.6)\n",
    "plt.plot(local_vols.index, local_vols, label='Local Volatility Estimate', color='orange')\n",
    "plt.scatter(jump_returns.index, jump_returns, color='red', label='Detected Jumps', zorder=5)\n",
    "plt.legend()\n",
    "plt.title(\"Jump Detection Using Spadafora et al. Volatility Model\")\n",
    "plt.show()\n"
   ]
  },
  {
   "cell_type": "code",
   "execution_count": null,
   "id": "e397c004",
   "metadata": {},
   "outputs": [],
   "source": []
  }
 ],
 "metadata": {
  "kernelspec": {
   "display_name": "Python 3 (ipykernel)",
   "language": "python",
   "name": "python3"
  },
  "language_info": {
   "codemirror_mode": {
    "name": "ipython",
    "version": 3
   },
   "file_extension": ".py",
   "mimetype": "text/x-python",
   "name": "python",
   "nbconvert_exporter": "python",
   "pygments_lexer": "ipython3",
   "version": "3.9.12"
  }
 },
 "nbformat": 4,
 "nbformat_minor": 5
}
