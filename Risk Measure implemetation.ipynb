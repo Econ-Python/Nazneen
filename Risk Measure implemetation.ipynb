{
 "cells": [
  {
   "cell_type": "markdown",
   "id": "38ef1e0c",
   "metadata": {},
   "source": [
    "# Cross Sectional Systematic risk measure"
   ]
  },
  {
   "cell_type": "markdown",
   "id": "acfb7bb3",
   "metadata": {},
   "source": [
    "### Definitions, Pseudocode and python function\n",
    "**1. CoVaR (Conditional Value at Risk)**\n",
    "\n",
    "Definition:\n",
    "CoVaR measures the Value at Risk (VaR) of the financial system, conditional on a particular institution being in distress. It helps assess how much systemic risk a firm contributes.\n",
    "\n"
   ]
  },
  {
   "cell_type": "code",
   "execution_count": null,
   "id": "a7db1b7f",
   "metadata": {},
   "outputs": [],
   "source": [
    "Function CoVaR(institution_returns, system_returns, quantile):\n",
    "    Compute VaR of the institution at the given quantile\n",
    "    Select system returns where the institution is in distress (below its VaR)\n",
    "    Compute the system's VaR over those conditional periods\n",
    "    Return the conditional VaR (CoVaR)"
   ]
  },
  {
   "cell_type": "code",
   "execution_count": 1,
   "id": "ee708f6f",
   "metadata": {},
   "outputs": [],
   "source": [
    "def CoVaR(institution_returns, system_returns, quantile=0.05):\n",
    "    var_i = np.quantile(institution_returns, quantile)\n",
    "    mask = institution_returns <= var_i\n",
    "    covar = np.quantile(system_returns[mask], quantile)\n",
    "    return covar"
   ]
  },
  {
   "cell_type": "markdown",
   "id": "92571e1d",
   "metadata": {},
   "source": [
    "**2. MES (Marginal Expected Shortfall)**\n",
    "\n",
    "Definition:\n",
    "MES is the average loss of an institution when the market is experiencing extreme negative returns. It shows how much a firm is expected to lose in systemic crisis scenarios."
   ]
  },
  {
   "cell_type": "code",
   "execution_count": null,
   "id": "eb2483de",
   "metadata": {},
   "outputs": [],
   "source": [
    "Function MES(institution_returns, market_returns, quantile):\n",
    "    Find the threshold return defining market distress (VaR of the market)\n",
    "    Identify periods when market returns are below that threshold\n",
    "    Calculate the average return of the institution during those periods\n",
    "    Return the average as MES"
   ]
  },
  {
   "cell_type": "code",
   "execution_count": 2,
   "id": "2ad678ab",
   "metadata": {},
   "outputs": [],
   "source": [
    "def MES(institution_returns, market_returns, quantile=0.05):\n",
    "    threshold = np.quantile(market_returns, quantile)\n",
    "    stress_periods = market_returns <= threshold\n",
    "    mes = institution_returns[stress_periods].mean()\n",
    "    return mes"
   ]
  },
  {
   "cell_type": "markdown",
   "id": "c4719ae7",
   "metadata": {},
   "source": [
    "**3. ΔCoVaR (Delta CoVaR)**\n",
    "\n",
    "Definition:\n",
    "ΔCoVaR measures the increase in systemic risk when an institution moves from a normal state (e.g., median) to a stressed state. It quantifies the marginal contribution to systemic risk."
   ]
  },
  {
   "cell_type": "code",
   "execution_count": null,
   "id": "513d6483",
   "metadata": {},
   "outputs": [],
   "source": [
    "Function delta_CoVaR(institution_returns, system_returns, quantile):\n",
    "    Compute institution's VaR at given quantile (distress)\n",
    "    Compute institution's VaR at 50% quantile (median)\n",
    "    \n",
    "    Select system returns when institution is in distress\n",
    "    Select system returns when institution is in median state\n",
    "    \n",
    "    Compute system VaR under both conditions\n",
    "    Subtract: CoVaR (distress) - CoVaR (median)\n",
    "    Return the difference as delta CoVaR"
   ]
  },
  {
   "cell_type": "code",
   "execution_count": 3,
   "id": "b2307823",
   "metadata": {},
   "outputs": [],
   "source": [
    "def delta_CoVaR(institution_returns, system_returns, quantile=0.05):\n",
    "    var_i = np.quantile(institution_returns, quantile)\n",
    "    var_median = np.quantile(institution_returns, 0.5)\n",
    "\n",
    "    covar_distress = np.quantile(system_returns[institution_returns <= var_i], quantile)\n",
    "    covar_median = np.quantile(system_returns[institution_returns <= var_median], quantile)\n",
    "    \n",
    "    return covar_distress - covar_median"
   ]
  },
  {
   "cell_type": "markdown",
   "id": "b33cdf93",
   "metadata": {},
   "source": [
    "# Combined Python code"
   ]
  },
  {
   "cell_type": "code",
   "execution_count": 4,
   "id": "95dd4802",
   "metadata": {},
   "outputs": [],
   "source": [
    "import numpy as np\n",
    "\n",
    "def CoVaR(institution_returns, system_returns, quantile=0.05):\n",
    "    \"\"\"\n",
    "    Estimate CoVaR of the system given an institution is in distress.\n",
    "    \n",
    "    Params:\n",
    "    - institution_returns: np.array of returns for the institution\n",
    "    - system_returns: np.array of returns for the system or aggregate\n",
    "    - quantile: quantile level (e.g., 0.05 for 5% VaR)\n",
    "    \n",
    "    Returns:\n",
    "    - CoVaR value\n",
    "    \"\"\"\n",
    "    # Get the threshold where the institution is in distress (its VaR)\n",
    "    var_i = np.quantile(institution_returns, quantile)\n",
    "    \n",
    "    # Conditional returns of system when institution is in distress\n",
    "    mask = institution_returns <= var_i\n",
    "    covar = np.quantile(system_returns[mask], quantile)\n",
    "    \n",
    "    return covar\n",
    "\n",
    "def MES(institution_returns, market_returns, quantile=0.05):\n",
    "    \"\"\"\n",
    "    Calculate Marginal Expected Shortfall (MES) for an institution.\n",
    "    \n",
    "    Params:\n",
    "    - institution_returns: np.array\n",
    "    - market_returns: np.array (e.g., Nifty, S&P500)\n",
    "    - quantile: tail quantile to define market stress\n",
    "    \n",
    "    Returns:\n",
    "    - MES value\n",
    "    \"\"\"\n",
    "    # Define market distress period (e.g., bottom 5%)\n",
    "    threshold = np.quantile(market_returns, quantile)\n",
    "    stress_periods = market_returns <= threshold\n",
    "    \n",
    "    # Average return of the institution during those stress periods\n",
    "    mes = institution_returns[stress_periods].mean()\n",
    "    return mes\n",
    "\n",
    "def delta_CoVaR(institution_returns, system_returns, quantile=0.05):\n",
    "    \"\"\"\n",
    "    Calculate Delta CoVaR (change in system risk due to institution's distress)\n",
    "    \n",
    "    Params:\n",
    "    - institution_returns: np.array\n",
    "    - system_returns: np.array\n",
    "    - quantile: distress quantile\n",
    "    \n",
    "    Returns:\n",
    "    - delta CoVaR value\n",
    "    \"\"\"\n",
    "    var_i = np.quantile(institution_returns, quantile)\n",
    "    var_median = np.quantile(institution_returns, 0.5)\n",
    "    \n",
    "    # CoVaR when institution is in distress\n",
    "    covar_distress = np.quantile(system_returns[institution_returns <= var_i], quantile)\n",
    "    \n",
    "    # CoVaR when institution is in median state\n",
    "    covar_median = np.quantile(system_returns[institution_returns <= var_median], quantile)\n",
    "    \n",
    "    delta_covar = covar_distress - covar_median\n",
    "    return delta_covar\n",
    "\n"
   ]
  },
  {
   "cell_type": "code",
   "execution_count": 5,
   "id": "1f6979e2",
   "metadata": {},
   "outputs": [
    {
     "name": "stdout",
     "output_type": "stream",
     "text": [
      "CoVaR: -0.02813119826436948\n",
      "MES: -0.006068953998049488\n",
      "Delta CoVaR: -0.0008824113780089016\n"
     ]
    }
   ],
   "source": [
    "##### sample test ######\n",
    "# Example data\n",
    "np.random.seed(0)\n",
    "institution = np.random.normal(-0.01, 0.02, 1000)\n",
    "system = np.random.normal(-0.005, 0.015, 1000)\n",
    "\n",
    "# Calculate measures\n",
    "print(\"CoVaR:\", CoVaR(institution, system))\n",
    "print(\"MES:\", MES(institution, system))\n",
    "print(\"Delta CoVaR:\", delta_CoVaR(institution, system))"
   ]
  },
  {
   "cell_type": "code",
   "execution_count": null,
   "id": "0e897391",
   "metadata": {},
   "outputs": [],
   "source": []
  }
 ],
 "metadata": {
  "kernelspec": {
   "display_name": "Python 3 (ipykernel)",
   "language": "python",
   "name": "python3"
  },
  "language_info": {
   "codemirror_mode": {
    "name": "ipython",
    "version": 3
   },
   "file_extension": ".py",
   "mimetype": "text/x-python",
   "name": "python",
   "nbconvert_exporter": "python",
   "pygments_lexer": "ipython3",
   "version": "3.9.12"
  }
 },
 "nbformat": 4,
 "nbformat_minor": 5
}
